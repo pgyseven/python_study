{
 "cells": [
  {
   "cell_type": "markdown",
   "metadata": {},
   "source": [
    "지금까지는 파이썬의 기초 문법을 가지고 데이터를 다루고 분석하는 방법을 써왔다.\n",
    "하지만, 라이브러리를 사용하면 더욱 빠르고 편리하고 다양하게 데이터 분석을 할 수 있다.\n",
    "\n",
    "파이썬 데이터 분석에 활용되는 라이브러리의 대표적인 것에 pandas 라이브러리가 있다.\n",
    "\n",
    "pandas에서 데이터를 다루는 기초적인 방법에 대하여 알아보자.\n",
    "\n",
    "pandas에서 테이블 형태로 표현하는 것을 DataFrame라고 한다.\n"
   ]
  },
  {
   "cell_type": "code",
   "execution_count": 1,
   "metadata": {},
   "outputs": [
    {
     "name": "stdout",
     "output_type": "stream",
     "text": [
      "  name  english  math\n",
      "0   둘리       90    50\n",
      "1  도우너       80    60\n",
      "2   또치       60   100\n",
      "3  고길동       70    20\n"
     ]
    }
   ],
   "source": [
    "import pandas as pd\n",
    "# DataFrame() 함수로 pandas DataFrame 생성\n",
    "\n",
    "df = pd.DataFrame({'name' : ['둘리', '도우너', '또치', '고길동'],'english' : [90, 80, 60, 70],  'math' :  [50, 60, 100, 20]})\n",
    "\n",
    "print(df)\n",
    "#프린트하여 자동 생성되는 왼쪽 숫자는 index다\n"
   ]
  },
  {
   "cell_type": "code",
   "execution_count": 2,
   "metadata": {},
   "outputs": [
    {
     "name": "stdout",
     "output_type": "stream",
     "text": [
      "0     둘리\n",
      "1    도우너\n",
      "2     또치\n",
      "3    고길동\n",
      "Name: name, dtype: object\n",
      "0    90\n",
      "1    80\n",
      "2    60\n",
      "3    70\n",
      "Name: english, dtype: int64\n",
      "0     50\n",
      "1     60\n",
      "2    100\n",
      "3     20\n",
      "Name: math, dtype: int64\n"
     ]
    }
   ],
   "source": [
    "# 특정 변수의 값을 추출해보자\n",
    "\n",
    "print(df['name'])\n",
    "print(df['english'])\n",
    "print(df['math'])\n",
    "\n"
   ]
  },
  {
   "cell_type": "code",
   "execution_count": 3,
   "metadata": {},
   "outputs": [
    {
     "name": "stdout",
     "output_type": "stream",
     "text": [
      "75.0\n",
      "57.5\n"
     ]
    }
   ],
   "source": [
    "# sum 함수를 이용하여 과목별 평균 구하기\n",
    "print(sum(df['english']) / 4)\n",
    "print(sum(df['math']) / 4)"
   ]
  },
  {
   "cell_type": "markdown",
   "metadata": {},
   "source": [
    "문제) 엑셀의 표의 데이터를 데이터 프레임으로 만들고, dfFruit 변수에 저장하세요.\n",
    "만들어진 데이터 프레임을 이용해 과일의 가격 평균과 판매량 평균을 구하세요."
   ]
  },
  {
   "cell_type": "code",
   "execution_count": 8,
   "metadata": {},
   "outputs": [
    {
     "name": "stdout",
     "output_type": "stream",
     "text": [
      "1533.3333333333333\n",
      "25.0\n",
      "average : 1533.3333333333333\n"
     ]
    }
   ],
   "source": [
    "import pandas as pd\n",
    "# DataFrame() 함수로 pandas DataFrame 생성\n",
    "import numpy\n",
    "\n",
    "dfFruit = pd.DataFrame({\n",
    "    '제품' : ['사과', '딸기', '수박'],\n",
    "    '가격' : [1800, 1500, 1300],  \n",
    "    '판매량' :  [24, 38, 13]\n",
    "})\n",
    "\n",
    "print(sum(dfFruit['가격']) / 3)\n",
    "print(sum(dfFruit['판매량']) / 3)\n",
    "\n",
    "average = numpy.mean(dfFruit['가격'])   \n",
    "print(f\"average : {average}\")"
   ]
  },
  {
   "cell_type": "markdown",
   "metadata": {},
   "source": [
    "\\data\\excel_exam.xlsx 파일을 읽어와 데이터 프레임으로 만들고 여러가지 데이터 분석을 해봅시다."
   ]
  },
  {
   "cell_type": "code",
   "execution_count": 10,
   "metadata": {},
   "outputs": [
    {
     "name": "stderr",
     "output_type": "stream",
     "text": [
      "<>:1: SyntaxWarning: invalid escape sequence '\\l'\n",
      "<>:1: SyntaxWarning: invalid escape sequence '\\l'\n",
      "C:\\Users\\802-01\\AppData\\Local\\Temp\\ipykernel_6800\\215582943.py:1: SyntaxWarning: invalid escape sequence '\\l'\n",
      "  df_exam = pd.read_excel('D:\\lecture\\Python\\data\\excel_exam.xlsx') #파이썬과 같은경로라면 생략가능\n"
     ]
    },
    {
     "name": "stdout",
     "output_type": "stream",
     "text": [
      "    id  nclass  math  english  science\n",
      "0    1       1    50       98       50\n",
      "1    2       1    60       97       60\n",
      "2    3       1    45       86       78\n",
      "3    4       1    30       98       58\n",
      "4    5       2    25       80       65\n",
      "5    6       2    50       89       98\n",
      "6    7       2    80       90       45\n",
      "7    8       2    90       78       25\n",
      "8    9       3    20       98       15\n",
      "9   10       3    50       98       45\n",
      "10  11       3    65       65       65\n",
      "11  12       3    45       85       32\n",
      "12  13       4    46       98       65\n",
      "13  14       4    48       87       12\n",
      "14  15       4    75       56       78\n",
      "15  16       4    58       98       65\n",
      "16  17       5    65       68       98\n",
      "17  18       5    80       78       90\n",
      "18  19       5    89       68       87\n",
      "19  20       5    78       83       58\n"
     ]
    }
   ],
   "source": [
    "df_exam = pd.read_excel('D:\\lecture\\Python\\data\\excel_exam.xlsx') #파이썬과 같은경로라면 생략가능\n",
    "# 엑셀 파일을 읽어서 DataFrame 객체로 만들어 줌\n",
    "\n",
    "print(df_exam)"
   ]
  },
  {
   "cell_type": "code",
   "execution_count": 15,
   "metadata": {},
   "outputs": [
    {
     "name": "stdout",
     "output_type": "stream",
     "text": [
      "57.45\n",
      "84.9\n",
      "59.45\n"
     ]
    }
   ],
   "source": [
    "# 읽어온 데이터에 대한 과목별 평균을 다시 구해보자\n",
    "print(sum(df_exam['math']) / len(df_exam['math']))\n",
    "print(sum(df_exam['english']) / len(df_exam)) # 결측치가 없으니 이렇게도 가능\n",
    "print(sum(df_exam['science']) / len(df_exam))"
   ]
  },
  {
   "cell_type": "markdown",
   "metadata": {},
   "source": [
    "엑셀 데이터를 읽어 DataFrame 을 만들때 헤더 정보가 없다면~\n",
    "read_excel(파일명, header=None)\n",
    "\n",
    "엑셀 데이터를 읽어 dataFrame을 만들 때, 엑셀 파일에 여러개의 시트가 있을때...\n",
    "read_excel(파일명, sheet_name='sheetName')\n",
    "read_excel(파일명, sheet_name=0부터시작하는index)"
   ]
  },
  {
   "cell_type": "code",
   "execution_count": null,
   "metadata": {},
   "outputs": [],
   "source": [
    "df_exam_novar = pd.read_excel('D:\\lecture\\Python\\data\\excel_exam_novar.xlsx', header=None) # header=None 이러면 헤더 부분에도 임의 index가 들어간다.\n",
    "print(df_exam_novar)\n",
    "\n"
   ]
  },
  {
   "cell_type": "code",
   "execution_count": 27,
   "metadata": {},
   "outputs": [
    {
     "name": "stdout",
     "output_type": "stream",
     "text": [
      "         사용월  호선명   역ID      지하철역      승차승객수      하차승객수                 작업일시\n",
      "0    2024-07  1호선   150       서울역  1,657,883  1,564,476  2024-08-03 09:51:41\n",
      "1    2024-07  1호선   151        시청    742,284    746,353  2024-08-03 09:51:41\n",
      "2    2024-07  1호선   152        종각  1,145,348  1,130,282  2024-08-03 09:51:41\n",
      "3    2024-07  1호선   153      종로3가    755,197    697,902  2024-08-03 09:51:41\n",
      "4    2024-07  1호선   154      종로5가    699,688    684,549  2024-08-03 09:51:41\n",
      "..       ...  ...   ...       ...        ...        ...                  ...\n",
      "616  2024-07  신림선  4407        당곡    149,145    145,635  2024-08-03 09:51:41\n",
      "617  2024-07  신림선  4408        신림     60,184     78,904  2024-08-03 09:51:41\n",
      "618  2024-07  신림선  4409        서원    107,834     95,900  2024-08-03 09:51:41\n",
      "619  2024-07  신림선  4410   서울대벤처타운    289,061    266,632  2024-08-03 09:51:41\n",
      "620  2024-07  신림선  4411  관악산(서울대)     97,130     96,765  2024-08-03 09:51:41\n",
      "\n",
      "[621 rows x 7 columns]\n"
     ]
    }
   ],
   "source": [
    "print(pd.read_excel('D:\\\\lecture\\\\Python\\\\data\\\\trafficData.xls', sheet_name=1))\n"
   ]
  },
  {
   "cell_type": "markdown",
   "metadata": {},
   "source": [
    "csv 파일 pandas 라이브러리로 read, save 해보자"
   ]
  },
  {
   "cell_type": "code",
   "execution_count": null,
   "metadata": {},
   "outputs": [],
   "source": [
    "print(pd.read_csv('D:\\lecture\\Python\\data\\seoulTemp_utf8.csv')) # csv 파일을 읽어 dataFrame 객체로 만들기\n",
    "\n",
    "dfFruit.to_csv('D:\\lecture\\Python\\data\\dfFruit.csv', index=False) # csv로 생성 , 인덱스 생성하지 않고"
   ]
  },
  {
   "cell_type": "markdown",
   "metadata": {},
   "source": [
    "pandas의 DataFrame을 사용하여 데이터를 파알할 때 주로 사용하는 명령어\n",
    "\n",
    "head() : DataFrame의 처음 5개 row를 보여준다\n",
    "tail() : DataFrame의 마지막 row를 보여준다.\n",
    "shape : 행 , 열의 개수를 출력한다.\n",
    "info() : DataFrame의 변수, 속성 정보를 출력한다.\n",
    "describe() : 통계량을 요약하여 출력한다.\n"
   ]
  },
  {
   "cell_type": "code",
   "execution_count": 43,
   "metadata": {},
   "outputs": [
    {
     "name": "stdout",
     "output_type": "stream",
     "text": [
      "   id  nclass  math  english  science\n",
      "0   1       1    50       98       50\n",
      "1   2       1    60       97       60\n",
      "2   3       1    45       86       78\n",
      "3   4       1    30       98       58\n",
      "4   5       2    25       80       65\n",
      "    id  nclass  math  english  science\n",
      "15  16       4    58       98       65\n",
      "16  17       5    65       68       98\n",
      "17  18       5    80       78       90\n",
      "18  19       5    89       68       87\n",
      "19  20       5    78       83       58\n",
      "(20, 5)\n",
      "<class 'pandas.core.frame.DataFrame'>\n",
      "RangeIndex: 20 entries, 0 to 19\n",
      "Data columns (total 5 columns):\n",
      " #   Column   Non-Null Count  Dtype\n",
      "---  ------   --------------  -----\n",
      " 0   id       20 non-null     int64\n",
      " 1   nclass   20 non-null     int64\n",
      " 2   math     20 non-null     int64\n",
      " 3   english  20 non-null     int64\n",
      " 4   science  20 non-null     int64\n",
      "dtypes: int64(5)\n",
      "memory usage: 932.0 bytes\n",
      "None\n",
      "             id     nclass       math    english    science\n",
      "count  20.00000  20.000000  20.000000  20.000000  20.000000\n",
      "mean   10.50000   3.000000  57.450000  84.900000  59.450000\n",
      "std     5.91608   1.450953  20.299015  12.875517  25.292968\n",
      "min     1.00000   1.000000  20.000000  56.000000  12.000000\n",
      "25%     5.75000   2.000000  45.750000  78.000000  45.000000\n",
      "50%    10.50000   3.000000  54.000000  86.500000  62.500000\n",
      "75%    15.25000   4.000000  75.750000  98.000000  78.000000\n",
      "max    20.00000   5.000000  90.000000  98.000000  98.000000\n"
     ]
    },
    {
     "name": "stderr",
     "output_type": "stream",
     "text": [
      "<>:1: SyntaxWarning: invalid escape sequence '\\l'\n",
      "<>:1: SyntaxWarning: invalid escape sequence '\\l'\n",
      "C:\\Users\\802-01\\AppData\\Local\\Temp\\ipykernel_6800\\3055194602.py:1: SyntaxWarning: invalid escape sequence '\\l'\n",
      "  exam = pd.read_csv('D:\\lecture\\Python\\data\\exam.csv')\n"
     ]
    }
   ],
   "source": [
    "exam = pd.read_csv('D:\\lecture\\Python\\data\\exam.csv')\n",
    "print(exam.head())\n",
    "print(exam.tail())\n",
    "print(exam.shape) # (20, 5) 20 행 5열을 의미한다.\n",
    "print(exam.info())\n",
    "print(exam.describe())"
   ]
  },
  {
   "cell_type": "code",
   "execution_count": 44,
   "metadata": {},
   "outputs": [
    {
     "data": {
      "text/html": [
       "<div>\n",
       "<style scoped>\n",
       "    .dataframe tbody tr th:only-of-type {\n",
       "        vertical-align: middle;\n",
       "    }\n",
       "\n",
       "    .dataframe tbody tr th {\n",
       "        vertical-align: top;\n",
       "    }\n",
       "\n",
       "    .dataframe thead th {\n",
       "        text-align: right;\n",
       "    }\n",
       "</style>\n",
       "<table border=\"1\" class=\"dataframe\">\n",
       "  <thead>\n",
       "    <tr style=\"text-align: right;\">\n",
       "      <th></th>\n",
       "      <th>id</th>\n",
       "      <th>nclass</th>\n",
       "      <th>math</th>\n",
       "      <th>english</th>\n",
       "      <th>science</th>\n",
       "    </tr>\n",
       "  </thead>\n",
       "  <tbody>\n",
       "    <tr>\n",
       "      <th>count</th>\n",
       "      <td>20.00000</td>\n",
       "      <td>20.000000</td>\n",
       "      <td>20.000000</td>\n",
       "      <td>20.000000</td>\n",
       "      <td>20.000000</td>\n",
       "    </tr>\n",
       "    <tr>\n",
       "      <th>mean</th>\n",
       "      <td>10.50000</td>\n",
       "      <td>3.000000</td>\n",
       "      <td>57.450000</td>\n",
       "      <td>84.900000</td>\n",
       "      <td>59.450000</td>\n",
       "    </tr>\n",
       "    <tr>\n",
       "      <th>std</th>\n",
       "      <td>5.91608</td>\n",
       "      <td>1.450953</td>\n",
       "      <td>20.299015</td>\n",
       "      <td>12.875517</td>\n",
       "      <td>25.292968</td>\n",
       "    </tr>\n",
       "    <tr>\n",
       "      <th>min</th>\n",
       "      <td>1.00000</td>\n",
       "      <td>1.000000</td>\n",
       "      <td>20.000000</td>\n",
       "      <td>56.000000</td>\n",
       "      <td>12.000000</td>\n",
       "    </tr>\n",
       "    <tr>\n",
       "      <th>25%</th>\n",
       "      <td>5.75000</td>\n",
       "      <td>2.000000</td>\n",
       "      <td>45.750000</td>\n",
       "      <td>78.000000</td>\n",
       "      <td>45.000000</td>\n",
       "    </tr>\n",
       "    <tr>\n",
       "      <th>50%</th>\n",
       "      <td>10.50000</td>\n",
       "      <td>3.000000</td>\n",
       "      <td>54.000000</td>\n",
       "      <td>86.500000</td>\n",
       "      <td>62.500000</td>\n",
       "    </tr>\n",
       "    <tr>\n",
       "      <th>75%</th>\n",
       "      <td>15.25000</td>\n",
       "      <td>4.000000</td>\n",
       "      <td>75.750000</td>\n",
       "      <td>98.000000</td>\n",
       "      <td>78.000000</td>\n",
       "    </tr>\n",
       "    <tr>\n",
       "      <th>max</th>\n",
       "      <td>20.00000</td>\n",
       "      <td>5.000000</td>\n",
       "      <td>90.000000</td>\n",
       "      <td>98.000000</td>\n",
       "      <td>98.000000</td>\n",
       "    </tr>\n",
       "  </tbody>\n",
       "</table>\n",
       "</div>"
      ],
      "text/plain": [
       "             id     nclass       math    english    science\n",
       "count  20.00000  20.000000  20.000000  20.000000  20.000000\n",
       "mean   10.50000   3.000000  57.450000  84.900000  59.450000\n",
       "std     5.91608   1.450953  20.299015  12.875517  25.292968\n",
       "min     1.00000   1.000000  20.000000  56.000000  12.000000\n",
       "25%     5.75000   2.000000  45.750000  78.000000  45.000000\n",
       "50%    10.50000   3.000000  54.000000  86.500000  62.500000\n",
       "75%    15.25000   4.000000  75.750000  98.000000  78.000000\n",
       "max    20.00000   5.000000  90.000000  98.000000  98.000000"
      ]
     },
     "execution_count": 44,
     "metadata": {},
     "output_type": "execute_result"
    }
   ],
   "source": [
    "# count : 데이터 빈도수, mean : 평균, std : 표준편차, max : 최대값\n",
    "exam.describe()\n"
   ]
  },
  {
   "cell_type": "code",
   "execution_count": null,
   "metadata": {},
   "outputs": [],
   "source": [
    "exam.head(10) # head(n) , tail(n)"
   ]
  },
  {
   "cell_type": "markdown",
   "metadata": {},
   "source": [
    "문) mpg.csv 파일을 읽고\n",
    "1)몇 행 열로 되어 있나요\n",
    "2) 각 컬럼의 데이터 타입을 알아보려면\n",
    "3) mpg 데이터의 통계 요약을 출력하세요."
   ]
  },
  {
   "cell_type": "code",
   "execution_count": null,
   "metadata": {},
   "outputs": [],
   "source": [
    "mpg = pd.read_csv('D:\\lecture\\Python\\data\\mpg.csv')\n",
    "\n",
    "print(mpg.shape) \n",
    "print(mpg.info())\n"
   ]
  },
  {
   "cell_type": "code",
   "execution_count": 51,
   "metadata": {},
   "outputs": [
    {
     "data": {
      "text/html": [
       "<div>\n",
       "<style scoped>\n",
       "    .dataframe tbody tr th:only-of-type {\n",
       "        vertical-align: middle;\n",
       "    }\n",
       "\n",
       "    .dataframe tbody tr th {\n",
       "        vertical-align: top;\n",
       "    }\n",
       "\n",
       "    .dataframe thead th {\n",
       "        text-align: right;\n",
       "    }\n",
       "</style>\n",
       "<table border=\"1\" class=\"dataframe\">\n",
       "  <thead>\n",
       "    <tr style=\"text-align: right;\">\n",
       "      <th></th>\n",
       "      <th>manufacturer</th>\n",
       "      <th>model</th>\n",
       "      <th>displ</th>\n",
       "      <th>year</th>\n",
       "      <th>cyl</th>\n",
       "      <th>trans</th>\n",
       "      <th>drv</th>\n",
       "      <th>cty</th>\n",
       "      <th>hwy</th>\n",
       "      <th>fl</th>\n",
       "      <th>class</th>\n",
       "    </tr>\n",
       "  </thead>\n",
       "  <tbody>\n",
       "    <tr>\n",
       "      <th>count</th>\n",
       "      <td>234</td>\n",
       "      <td>234</td>\n",
       "      <td>234.000000</td>\n",
       "      <td>234.000000</td>\n",
       "      <td>234.000000</td>\n",
       "      <td>234</td>\n",
       "      <td>234</td>\n",
       "      <td>234.000000</td>\n",
       "      <td>234.000000</td>\n",
       "      <td>234</td>\n",
       "      <td>234</td>\n",
       "    </tr>\n",
       "    <tr>\n",
       "      <th>unique</th>\n",
       "      <td>15</td>\n",
       "      <td>38</td>\n",
       "      <td>NaN</td>\n",
       "      <td>NaN</td>\n",
       "      <td>NaN</td>\n",
       "      <td>10</td>\n",
       "      <td>3</td>\n",
       "      <td>NaN</td>\n",
       "      <td>NaN</td>\n",
       "      <td>5</td>\n",
       "      <td>7</td>\n",
       "    </tr>\n",
       "    <tr>\n",
       "      <th>top</th>\n",
       "      <td>dodge</td>\n",
       "      <td>caravan 2wd</td>\n",
       "      <td>NaN</td>\n",
       "      <td>NaN</td>\n",
       "      <td>NaN</td>\n",
       "      <td>auto(l4)</td>\n",
       "      <td>f</td>\n",
       "      <td>NaN</td>\n",
       "      <td>NaN</td>\n",
       "      <td>r</td>\n",
       "      <td>suv</td>\n",
       "    </tr>\n",
       "    <tr>\n",
       "      <th>freq</th>\n",
       "      <td>37</td>\n",
       "      <td>11</td>\n",
       "      <td>NaN</td>\n",
       "      <td>NaN</td>\n",
       "      <td>NaN</td>\n",
       "      <td>83</td>\n",
       "      <td>106</td>\n",
       "      <td>NaN</td>\n",
       "      <td>NaN</td>\n",
       "      <td>168</td>\n",
       "      <td>62</td>\n",
       "    </tr>\n",
       "    <tr>\n",
       "      <th>mean</th>\n",
       "      <td>NaN</td>\n",
       "      <td>NaN</td>\n",
       "      <td>3.471795</td>\n",
       "      <td>2003.500000</td>\n",
       "      <td>5.888889</td>\n",
       "      <td>NaN</td>\n",
       "      <td>NaN</td>\n",
       "      <td>16.858974</td>\n",
       "      <td>23.440171</td>\n",
       "      <td>NaN</td>\n",
       "      <td>NaN</td>\n",
       "    </tr>\n",
       "    <tr>\n",
       "      <th>std</th>\n",
       "      <td>NaN</td>\n",
       "      <td>NaN</td>\n",
       "      <td>1.291959</td>\n",
       "      <td>4.509646</td>\n",
       "      <td>1.611534</td>\n",
       "      <td>NaN</td>\n",
       "      <td>NaN</td>\n",
       "      <td>4.255946</td>\n",
       "      <td>5.954643</td>\n",
       "      <td>NaN</td>\n",
       "      <td>NaN</td>\n",
       "    </tr>\n",
       "    <tr>\n",
       "      <th>min</th>\n",
       "      <td>NaN</td>\n",
       "      <td>NaN</td>\n",
       "      <td>1.600000</td>\n",
       "      <td>1999.000000</td>\n",
       "      <td>4.000000</td>\n",
       "      <td>NaN</td>\n",
       "      <td>NaN</td>\n",
       "      <td>9.000000</td>\n",
       "      <td>12.000000</td>\n",
       "      <td>NaN</td>\n",
       "      <td>NaN</td>\n",
       "    </tr>\n",
       "    <tr>\n",
       "      <th>25%</th>\n",
       "      <td>NaN</td>\n",
       "      <td>NaN</td>\n",
       "      <td>2.400000</td>\n",
       "      <td>1999.000000</td>\n",
       "      <td>4.000000</td>\n",
       "      <td>NaN</td>\n",
       "      <td>NaN</td>\n",
       "      <td>14.000000</td>\n",
       "      <td>18.000000</td>\n",
       "      <td>NaN</td>\n",
       "      <td>NaN</td>\n",
       "    </tr>\n",
       "    <tr>\n",
       "      <th>50%</th>\n",
       "      <td>NaN</td>\n",
       "      <td>NaN</td>\n",
       "      <td>3.300000</td>\n",
       "      <td>2003.500000</td>\n",
       "      <td>6.000000</td>\n",
       "      <td>NaN</td>\n",
       "      <td>NaN</td>\n",
       "      <td>17.000000</td>\n",
       "      <td>24.000000</td>\n",
       "      <td>NaN</td>\n",
       "      <td>NaN</td>\n",
       "    </tr>\n",
       "    <tr>\n",
       "      <th>75%</th>\n",
       "      <td>NaN</td>\n",
       "      <td>NaN</td>\n",
       "      <td>4.600000</td>\n",
       "      <td>2008.000000</td>\n",
       "      <td>8.000000</td>\n",
       "      <td>NaN</td>\n",
       "      <td>NaN</td>\n",
       "      <td>19.000000</td>\n",
       "      <td>27.000000</td>\n",
       "      <td>NaN</td>\n",
       "      <td>NaN</td>\n",
       "    </tr>\n",
       "    <tr>\n",
       "      <th>max</th>\n",
       "      <td>NaN</td>\n",
       "      <td>NaN</td>\n",
       "      <td>7.000000</td>\n",
       "      <td>2008.000000</td>\n",
       "      <td>8.000000</td>\n",
       "      <td>NaN</td>\n",
       "      <td>NaN</td>\n",
       "      <td>35.000000</td>\n",
       "      <td>44.000000</td>\n",
       "      <td>NaN</td>\n",
       "      <td>NaN</td>\n",
       "    </tr>\n",
       "  </tbody>\n",
       "</table>\n",
       "</div>"
      ],
      "text/plain": [
       "       manufacturer        model       displ         year         cyl  \\\n",
       "count           234          234  234.000000   234.000000  234.000000   \n",
       "unique           15           38         NaN          NaN         NaN   \n",
       "top           dodge  caravan 2wd         NaN          NaN         NaN   \n",
       "freq             37           11         NaN          NaN         NaN   \n",
       "mean            NaN          NaN    3.471795  2003.500000    5.888889   \n",
       "std             NaN          NaN    1.291959     4.509646    1.611534   \n",
       "min             NaN          NaN    1.600000  1999.000000    4.000000   \n",
       "25%             NaN          NaN    2.400000  1999.000000    4.000000   \n",
       "50%             NaN          NaN    3.300000  2003.500000    6.000000   \n",
       "75%             NaN          NaN    4.600000  2008.000000    8.000000   \n",
       "max             NaN          NaN    7.000000  2008.000000    8.000000   \n",
       "\n",
       "           trans  drv         cty         hwy   fl class  \n",
       "count        234  234  234.000000  234.000000  234   234  \n",
       "unique        10    3         NaN         NaN    5     7  \n",
       "top     auto(l4)    f         NaN         NaN    r   suv  \n",
       "freq          83  106         NaN         NaN  168    62  \n",
       "mean         NaN  NaN   16.858974   23.440171  NaN   NaN  \n",
       "std          NaN  NaN    4.255946    5.954643  NaN   NaN  \n",
       "min          NaN  NaN    9.000000   12.000000  NaN   NaN  \n",
       "25%          NaN  NaN   14.000000   18.000000  NaN   NaN  \n",
       "50%          NaN  NaN   17.000000   24.000000  NaN   NaN  \n",
       "75%          NaN  NaN   19.000000   27.000000  NaN   NaN  \n",
       "max          NaN  NaN   35.000000   44.000000  NaN   NaN  "
      ]
     },
     "execution_count": 51,
     "metadata": {},
     "output_type": "execute_result"
    }
   ],
   "source": [
    "mpg.describe() # 통계량을 산출할 수 있는 컬럼에 대해서만 값이 나온다.\n",
    "\n",
    "#모든 컬럼에 대한 통계 요약 정보를 보고 싶을 때는 include='all' 속성을 추가한다.\n",
    "mpg.describe(include='all') # NaN (Not A Number:  숫자가 아니다.)"
   ]
  }
 ],
 "metadata": {
  "kernelspec": {
   "display_name": "Python 3",
   "language": "python",
   "name": "python3"
  },
  "language_info": {
   "codemirror_mode": {
    "name": "ipython",
    "version": 3
   },
   "file_extension": ".py",
   "mimetype": "text/x-python",
   "name": "python",
   "nbconvert_exporter": "python",
   "pygments_lexer": "ipython3",
   "version": "3.12.4"
  }
 },
 "nbformat": 4,
 "nbformat_minor": 2
}
