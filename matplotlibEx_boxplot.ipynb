{
 "cells": [
  {
   "cell_type": "code",
   "execution_count": null,
   "metadata": {},
   "outputs": [],
   "source": [
    "boxplot : 주식 차트를 그릴때 사용되는 차트\n",
    "주어진 데이터에서, 최대값, 최소값, 1/4, 3/4 중간값을 추출하여 차트를 그려준다."
   ]
  },
  {
   "cell_type": "code",
   "execution_count": 4,
   "metadata": {},
   "outputs": [
    {
     "name": "stdout",
     "output_type": "stream",
     "text": [
      "[1, 7, 10, 11, 12, 14, 18, 18, 22, 23, 23, 24, 27, 33, 33, 34, 37, 38, 38, 42, 43, 43, 44, 45, 48, 51, 56, 57, 60, 61, 62, 68, 70, 71, 75, 78, 81, 81, 83, 84, 84, 87, 88, 91, 92, 92, 93, 93, 93, 95]\n",
      "최대값 : 95 ,  최소값 : 1\n",
      "1/4 : 28 , 3/4 : 81, 중간값 : 49\n"
     ]
    },
    {
     "data": {
      "image/png": "[encoded data removed]",
      "text/plain": [
       "<Figure size 640x480 with 1 Axes>"
      ]
     },
     "metadata": {},
     "output_type": "display_data"
    }
   ],
   "source": [
    "import matplotlib.pyplot as plt\n",
    "import random\n",
    "import numpy as np\n",
    "\n",
    "result = []\n",
    "\n",
    "for i in range(50):\n",
    "    result.append(random.randint(1, 100))\n",
    "\n",
    "print(sorted(result))\n",
    "\n",
    "npArr = np.array(result)\n",
    "print(\"최대값 : %d ,  최소값 : %d\" % (npArr.max(), npArr.min()))\n",
    "print(\"1/4 : %d , 3/4 : %d, 중간값 : %d\" % (np.percentile(npArr, 25), np.percentile(npArr, 75), np.median(npArr)))\n",
    "\n",
    "\n",
    "plt.boxplot(result) \n",
    "\n",
    "plt.show()  "
   ]
  }
 ],
 "metadata": {
  "kernelspec": {
   "display_name": "Python 3",
   "language": "python",
   "name": "python3"
  },
  "language_info": {
   "codemirror_mode": {
    "name": "ipython",
    "version": 3
   },
   "file_extension": ".py",
   "mimetype": "text/x-python",
   "name": "python",
   "nbconvert_exporter": "python",
   "pygments_lexer": "ipython3",
   "version": "3.12.4"
  }
 },
 "nbformat": 4,
 "nbformat_minor": 2
}
